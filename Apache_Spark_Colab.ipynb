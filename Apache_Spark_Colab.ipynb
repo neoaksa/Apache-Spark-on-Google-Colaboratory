{
  "nbformat": 4,
  "nbformat_minor": 0,
  "metadata": {
    "colab": {
      "name": "Apache Spark_Colab.ipynb",
      "version": "0.3.2",
      "provenance": [],
      "include_colab_link": true
    },
    "kernelspec": {
      "name": "python3",
      "display_name": "Python 3"
    },
    "accelerator": "GPU"
  },
  "cells": [
    {
      "cell_type": "markdown",
      "metadata": {
        "id": "view-in-github",
        "colab_type": "text"
      },
      "source": [
        "[View in Colaboratory](https://colab.research.google.com/github/neoaksa/Spark_Cluster_on_Vagrant/blob/master/Apache_Spark_Colab.ipynb)"
      ]
    },
    {
      "metadata": {
        "id": "0yvAW6fQN9Nv",
        "colab_type": "code",
        "colab": {}
      },
      "cell_type": "code",
      "source": [
        "# install spark from http://spark.apache.org/downloads.html\n",
        "!apt-get install openjdk-8-jdk-headless -qq > /dev/null\n",
        "!wget -q http://apache.osuosl.org/spark/spark-2.3.1/spark-2.3.1-bin-hadoop2.7.tgz\n",
        "!tar xf spark-2.3.1-bin-hadoop2.7.tgz\n",
        "!pip install -q findspark\n",
        "\n",
        "# setting path for ipython\n",
        "import os\n",
        "os.environ[\"JAVA_HOME\"] = \"/usr/lib/jvm/java-8-openjdk-amd64\"\n",
        "os.environ[\"SPARK_HOME\"] = \"/content/spark-2.3.1-bin-hadoop2.7\"\n",
        "\n",
        "# run spark\n",
        "# import findspark\n",
        "# findspark.init()\n",
        "# from pyspark.sql import SparkSession\n",
        "# spark = SparkSession.builder.master(\"local[*]\").getOrCreate()\n",
        "\n",
        "#stop spark\n",
        "# spark.stop()"
      ],
      "execution_count": 0,
      "outputs": []
    },
    {
      "metadata": {
        "id": "DSANKBDRlFDq",
        "colab_type": "code",
        "colab": {}
      },
      "cell_type": "code",
      "source": [
        "# create sparkcontext \n",
        "from pyspark import SparkConf, SparkContext\n",
        "conf = SparkConf().setMaster('local').setAppName('My App') #cluster URl and app name\n",
        "sc = SparkContext(conf = conf)"
      ],
      "execution_count": 0,
      "outputs": []
    }
  ]
}